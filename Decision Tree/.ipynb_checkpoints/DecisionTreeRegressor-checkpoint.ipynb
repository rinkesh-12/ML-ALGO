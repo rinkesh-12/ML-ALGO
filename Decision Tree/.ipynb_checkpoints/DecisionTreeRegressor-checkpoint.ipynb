{
 "cells": [
  {
   "cell_type": "code",
   "execution_count": 1,
   "id": "e5020a2a-e05f-4eb3-887a-8a2051f7bb47",
   "metadata": {},
   "outputs": [],
   "source": [
    "import matplotlib.pyplot as plt\n",
    "from sklearn.datasets import fetch_california_housing\n",
    "from sklearn.model_selection import train_test_split, GridSearchCV\n",
    "from sklearn.tree import DecisionTreeRegressor, plot_tree\n",
    "from sklearn.metrics import r2_score, mean_squared_error\n",
    "import numpy as np"
   ]
  },
  {
   "cell_type": "code",
   "execution_count": 2,
   "id": "3d43625d-bd3e-47af-b985-0098f59aada8",
   "metadata": {},
   "outputs": [],
   "source": [
    "# --- Load dataset ---\n",
    "data = fetch_california_housing(as_frame=True)\n",
    "X, y = data.data, data.target\n",
    "\n",
    "X_train, X_test, y_train, y_test = train_test_split(\n",
    "    X, y, test_size=0.2, random_state=42\n",
    ")\n"
   ]
  },
  {
   "cell_type": "code",
   "execution_count": 3,
   "id": "9ef348be-af88-4ab2-9593-085ded230eac",
   "metadata": {},
   "outputs": [],
   "source": [
    "# --- Hyperparameter Grid ---\n",
    "\n",
    "param_grid = {\n",
    "    \"criterion\": [\"squared_error\", \"friedman_mse\", \"absolute_error\", \"poisson\"],\n",
    "    \"max_depth\": [None, 5, 10, 20],\n",
    "    \"min_samples_split\": [2, 5, 10],\n",
    "    \"min_samples_leaf\": [1, 2, 4],\n",
    "}"
   ]
  },
  {
   "cell_type": "code",
   "execution_count": null,
   "id": "5c88a4b2-b4d3-47ed-a27e-67c53c39f453",
   "metadata": {},
   "outputs": [
    {
     "name": "stdout",
     "output_type": "stream",
     "text": [
      "Fitting 5 folds for each of 48000 candidates, totalling 240000 fits\n"
     ]
    }
   ],
   "source": [
    "# --- GridSearchCV ---\n",
    "dtr = DecisionTreeRegressor(random_state=42)\n",
    "grid = GridSearchCV(\n",
    "    dtr,\n",
    "    param_grid=param_grid,\n",
    "    cv=5,\n",
    "    scoring=\"r2\",\n",
    "    n_jobs=-1,\n",
    "    verbose=2\n",
    ")\n",
    "\n",
    "grid.fit(X_train, y_train)"
   ]
  },
  {
   "cell_type": "code",
   "execution_count": null,
   "id": "53cd958b-2728-467f-9738-49602b283523",
   "metadata": {},
   "outputs": [],
   "source": [
    "# --- Best Model ---\n",
    "best_dtr = grid.best_estimator_\n",
    "y_pred = best_dtr.predict(X_test)"
   ]
  },
  {
   "cell_type": "code",
   "execution_count": null,
   "id": "54764e45-ccd1-493c-a2bc-17f0bb4f265e",
   "metadata": {},
   "outputs": [],
   "source": [
    "# --- Results ---\n",
    "print(\"Best Parameters:\", grid.best_params_)\n",
    "print(\"Train R²:\", r2_score(y_train, best_dtr.predict(X_train)))\n",
    "print(\"Test R²:\", r2_score(y_test, y_pred))\n",
    "print(\"Test RMSE:\", np.sqrt(mean_squared_error(y_test, y_pred)))"
   ]
  },
  {
   "cell_type": "code",
   "execution_count": null,
   "id": "3ce24473-1f51-4949-8234-a13c445f39e4",
   "metadata": {},
   "outputs": [],
   "source": [
    "# --- Plot Tree ---\n",
    "plt.figure(figsize=(18, 10))\n",
    "plot_tree(best_dtr, filled=True, feature_names=data.feature_names, max_depth=3)  # limit depth for readability\n",
    "plt.show()"
   ]
  },
  {
   "cell_type": "code",
   "execution_count": null,
   "id": "df1e4f47-266e-4092-a24f-12dae91fb47d",
   "metadata": {},
   "outputs": [],
   "source": []
  },
  {
   "cell_type": "code",
   "execution_count": null,
   "id": "6806e7ff-a577-430c-909c-3f65c5b7662b",
   "metadata": {},
   "outputs": [],
   "source": [
    "dt = DecisionTreeRegressor(**grid.best_params_)\n",
    "dt.fit(X_train, y_train)"
   ]
  },
  {
   "cell_type": "code",
   "execution_count": null,
   "id": "c5385fc3-c430-4f67-af84-d2871c5ae37d",
   "metadata": {},
   "outputs": [],
   "source": [
    "dt.fit(X_train, y_train)\n",
    "y_pred=dt.predict(X_test)"
   ]
  },
  {
   "cell_type": "code",
   "execution_count": null,
   "id": "ea7f5463-ceef-4147-902b-476456ef869f",
   "metadata": {},
   "outputs": [],
   "source": [
    "r2_score(y_test, y_pred)"
   ]
  },
  {
   "cell_type": "code",
   "execution_count": null,
   "id": "be9dda1d-b7ce-4913-8fa6-28ba8c0c3544",
   "metadata": {},
   "outputs": [],
   "source": [
    "mean_squared_error(y_test, y_pred)"
   ]
  }
 ],
 "metadata": {
  "kernelspec": {
   "display_name": "Python [conda env:base] *",
   "language": "python",
   "name": "conda-base-py"
  },
  "language_info": {
   "codemirror_mode": {
    "name": "ipython",
    "version": 3
   },
   "file_extension": ".py",
   "mimetype": "text/x-python",
   "name": "python",
   "nbconvert_exporter": "python",
   "pygments_lexer": "ipython3",
   "version": "3.13.5"
  }
 },
 "nbformat": 4,
 "nbformat_minor": 5
}
