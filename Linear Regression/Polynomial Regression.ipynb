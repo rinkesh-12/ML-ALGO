{
 "cells": [
  {
   "cell_type": "code",
   "execution_count": 1,
   "id": "246cc889-90ff-4598-8537-6831f93f9966",
   "metadata": {},
   "outputs": [
    {
     "name": "stdout",
     "output_type": "stream",
     "text": [
      "Fitting 5 folds for each of 16 candidates, totalling 80 fits\n",
      "Best Parameters: {'poly__degree': 1, 'ridge__alpha': 10}\n",
      "Best CV R² Score: 0.453937415795935\n",
      "Test R² Score: 0.45721095677808476\n"
     ]
    }
   ],
   "source": [
    "# --- Import Libraries ---\n",
    "import numpy as np\n",
    "import pandas as pd\n",
    "\n",
    "from sklearn.datasets import load_diabetes   # built-in regression dataset\n",
    "from sklearn.preprocessing import PolynomialFeatures, StandardScaler\n",
    "from sklearn.linear_model import LinearRegression, Ridge\n",
    "from sklearn.pipeline import Pipeline\n",
    "from sklearn.model_selection import GridSearchCV, train_test_split\n",
    "from sklearn.metrics import r2_score\n",
    "\n",
    "# --- Step 1: Load Built-in Dataset ---\n",
    "data = load_diabetes()\n",
    "X = data.data\n",
    "y = data.target\n",
    "\n",
    "# Train-Test Split\n",
    "X_train, X_test, y_train, y_test = train_test_split(\n",
    "    X, y, test_size=0.2, random_state=42\n",
    ")\n",
    "\n",
    "# --- Step 2: Create Pipeline for Polynomial Regression ---\n",
    "# Pipeline: PolynomialFeatures -> StandardScaler -> Ridge Regression\n",
    "pipeline = Pipeline([\n",
    "    (\"poly\", PolynomialFeatures()),       # polynomial feature transformation\n",
    "    (\"scaler\", StandardScaler()),         # scaling features\n",
    "    (\"ridge\", Ridge())                    # regression with regularization\n",
    "])\n",
    "\n",
    "# --- Step 3: Define Hyperparameter Grid ---\n",
    "param_grid = {\n",
    "    \"poly__degree\": [1, 2, 3, 4],          # degree of polynomial features\n",
    "    \"ridge__alpha\": [0.1, 1, 10, 100]      # regularization strength\n",
    "}\n",
    "\n",
    "# --- Step 4: Apply GridSearchCV ---\n",
    "grid = GridSearchCV(\n",
    "    pipeline,\n",
    "    param_grid=param_grid,\n",
    "    cv=5,                   # 5-fold cross-validation\n",
    "    scoring=\"r2\",           # R² score (good for regression)\n",
    "    n_jobs=-1,\n",
    "    verbose=1\n",
    ")\n",
    "\n",
    "grid.fit(X_train, y_train)\n",
    "\n",
    "# --- Step 5: Best Parameters & Best Model ---\n",
    "print(\"Best Parameters:\", grid.best_params_)\n",
    "print(\"Best CV R² Score:\", grid.best_score_)\n",
    "\n",
    "# --- Step 6: Evaluate on Test Data ---\n",
    "y_pred = grid.predict(X_test)\n",
    "r2 = r2_score(y_test, y_pred)\n",
    "print(\"Test R² Score:\", r2)\n"
   ]
  },
  {
   "cell_type": "code",
   "execution_count": null,
   "id": "c8ae0da4-f727-4f57-bb0d-2271211705f1",
   "metadata": {},
   "outputs": [],
   "source": []
  }
 ],
 "metadata": {
  "kernelspec": {
   "display_name": "Python [conda env:base] *",
   "language": "python",
   "name": "conda-base-py"
  },
  "language_info": {
   "codemirror_mode": {
    "name": "ipython",
    "version": 3
   },
   "file_extension": ".py",
   "mimetype": "text/x-python",
   "name": "python",
   "nbconvert_exporter": "python",
   "pygments_lexer": "ipython3",
   "version": "3.13.5"
  }
 },
 "nbformat": 4,
 "nbformat_minor": 5
}
